{
 "cells": [
  {
   "cell_type": "code",
   "execution_count": 1,
   "metadata": {
    "collapsed": true
   },
   "outputs": [],
   "source": [
    "(ns leaflet\n",
    "    (:require [json-html.core :refer [edn->html]]\n",
    "              [clojupyter.misc.display :refer [make-html]]\n",
    "              [gorilla-renderable.core :refer [render]]\n",
    "              [hiccup.core :as hiccup]\n",
    "              [hiccup.page :refer [include-js]]\n",
    "              [com.lemondronor.leaflet-gorilla :as lg]))\n"
   ]
  },
  {
   "cell_type": "code",
   "execution_count": 2,
   "metadata": {},
   "outputs": [
    {
     "data": {
      "text/plain": [
       "#'leaflet/gorilla-renderable->html"
      ]
     },
     "execution_count": 2,
     "metadata": {},
     "output_type": "execute_result"
    }
   ],
   "source": [
    "(defn gorilla-renderable->html [gr]\n",
    "    (-> gr render :content))"
   ]
  },
  {
   "cell_type": "code",
   "execution_count": 3,
   "metadata": {},
   "outputs": [
    {
     "data": {
      "text/html": [
       "<div>\n",
       "<div id='ee4bee88-37d5-4954-aa49-94477b38ea4c' style='height: 400px; width: 400px;'></div>\n",
       "<script type='text/javascript'>\n",
       "$(function () {\n",
       "  var cachedScript = function(url, options) {\n",
       "    // Allow user to set any option except for dataType, cache, and url\n",
       "    options = $.extend( options || {}, {\n",
       "      dataType: 'script',\n",
       "      cache: true,\n",
       "      url: url\n",
       "    });\n",
       "\n",
       "    // Use $.ajax() since it is more flexible than $.getScript\n",
       "    // Return the jqXHR object so we can chain callbacks\n",
       "    return jQuery.ajax(options);\n",
       "  };\n",
       "  var createMap = function() {\n",
       "    var map = L.map('ee4bee88-37d5-4954-aa49-94477b38ea4c')\n",
       "    L.tileLayer('http://{s}.tile.osm.org/{z}/{x}/{y}.png')\n",
       "        .addTo(map);\n",
       "    var geoJsons = [{\"type\":\"Feature\",\"geometry\":{\"type\":\"MultiPoint\",\"coordinates\":[[-72,42],[-71,42],[-72,43]]}}];\n",
       "    var bounds = null;\n",
       "    for (var i = 0; i < geoJsons.length; i++) {\n",
       "      var geoJson = L.geoJson(\n",
       "      geoJsons[i],\n",
       "      {style: {'color': 'steelblue',\n",
       "               'opacity': 1.0}});\n",
       "      geoJson.addTo(map);\n",
       "      console.log('Added GeoJSON:');\n",
       "      console.log(geoJsons[i]);\n",
       "      if (!bounds) {\n",
       "        bounds = geoJson.getBounds();\n",
       "      } else {\n",
       "        bounds.extend(geoJson.getBounds());\n",
       "      }\n",
       "    }\n",
       "    if ([[43,-72],6]) {\n",
       "      map.setView.apply(map, [[43,-72],6]);\n",
       "    } else {\n",
       "      console.log('setting bounds to ' + bounds);\n",
       "      console.log(bounds);\n",
       "      map.fitBounds(bounds);\n",
       "    }\n",
       "  };\n",
       "  if (!document.getElementById('leaflet-css')) {\n",
       "    $('<link>')\n",
       "      .attr('rel', 'stylesheet')\n",
       "      .attr('href', 'http://cdn.leafletjs.com/leaflet-0.7.3/leaflet.css')\n",
       "      .attr('id', 'leaflet-css')\n",
       "      .appendTo('head');\n",
       "  }\n",
       "  if (!window.leafletJsLoaded) {\n",
       "    if (!window.leafletJsIsLoading) {\n",
       "      window.leafletJsLoadedCallbacks = [createMap];\n",
       "      window.leafletJsIsLoading = true;\n",
       "      cachedScript('http://cdn.leafletjs.com/leaflet-0.7.3/leaflet.js')\n",
       "        .done(function() {\n",
       "          window.leafletJsIsLoading = false;\n",
       "          window.leafletJsLoaded = true;\n",
       "          _.each(window.leafletJsLoadedCallbacks, function(cb) { cb(); });\n",
       "          window.leafletJsLoadedCallbacks = [];\n",
       "        })\n",
       "        .fail(function() { console.log('failed'); });\n",
       "    } else {\n",
       "      window.leafletJsLoadedCallbacks.push(createMap);\n",
       "    }\n",
       "  } else {\n",
       "    createMap();\n",
       "  }\n",
       "});\n",
       "</script>\n",
       "</div>"
      ]
     },
     "execution_count": 3,
     "metadata": {},
     "output_type": "execute_result"
    }
   ],
   "source": [
    "(-> [[42 -72] [42 -71] [43 -72]]\n",
    "    (lg/geo :view [[43 -72] 6])\n",
    "    gorilla-renderable->html\n",
    "    make-html)"
   ]
  },
  {
   "cell_type": "code",
   "execution_count": null,
   "metadata": {
    "collapsed": true
   },
   "outputs": [],
   "source": []
  }
 ],
 "metadata": {
  "kernelspec": {
   "display_name": "Lein-Clojure",
   "language": "clojure",
   "name": "lein-clojure"
  },
  "language_info": {
   "file_extension": ".clj",
   "mimetype": "text/x-clojure",
   "name": "clojure",
   "version": "1.8.0"
  }
 },
 "nbformat": 4,
 "nbformat_minor": 2
}
