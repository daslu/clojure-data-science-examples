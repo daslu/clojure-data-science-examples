{
 "cells": [
  {
   "cell_type": "code",
   "execution_count": 2,
   "metadata": {},
   "outputs": [],
   "source": [
    "(ns renjin-interop\n",
    "  (:require [clojure.reflect :refer [reflect]]\n",
    "            [clojure.pprint :refer [print-table pprint]])\n",
    "  (:import javax.script.ScriptEngineManager\n",
    "           org.renjin.script.RenjinScriptEngine\n",
    "           org.renjin.sexp.Environment\n",
    "           org.renjin.sexp.Symbol\n",
    "           org.renjin.sexp.DoubleArrayVector\n",
    "           org.renjin.sexp.SEXP\n",
    "           org.renjin.invoke.reflection.converters.Converters\n",
    "           org.renjin.eval.Context\n",
    "           org.renjin.parser.RParser\n",
    "           (org.renjin.sexp SEXP Vector Null)))"
   ]
  },
  {
   "cell_type": "code",
   "execution_count": null,
   "metadata": {},
   "outputs": [],
   "source": []
  },
  {
   "cell_type": "code",
   "execution_count": null,
   "metadata": {
    "collapsed": true
   },
   "outputs": [],
   "source": []
  }
 ],
 "metadata": {
  "kernelspec": {
   "display_name": "Lein-Clojure",
   "language": "clojure",
   "name": "lein-clojure"
  },
  "language_info": {
   "file_extension": ".clj",
   "mimetype": "text/x-clojure",
   "name": "clojure",
   "version": "1.8.0"
  }
 },
 "nbformat": 4,
 "nbformat_minor": 2
}
