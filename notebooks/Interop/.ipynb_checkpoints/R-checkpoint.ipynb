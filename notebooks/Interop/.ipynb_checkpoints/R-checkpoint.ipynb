{
 "cells": [
  {
   "cell_type": "markdown",
   "metadata": {},
   "source": [
    "# setup"
   ]
  },
  {
   "cell_type": "code",
   "execution_count": 8,
   "metadata": {
    "collapsed": true
   },
   "outputs": [],
   "source": [
    "(ns r-interop\n",
    "    (:require [rojure.core :refer [get-r r-set! r-eval r-get with-r-eval]]\n",
    "              [rojure.convert]\n",
    "              [gg4clj.core]\n",
    "              [json-html.core :refer [edn->html]]\n",
    "              [clojupyter.misc.display :refer [make-html]]\n",
    "              [hiccup.core :as hiccup]\n",
    "              [clojure.java.io :as io]))\n"
   ]
  },
  {
   "cell_type": "markdown",
   "metadata": {
    "collapsed": true
   },
   "source": [
    "## connection\n",
    "define connection to R (needs running R with RServe started)\n"
   ]
  },
  {
   "cell_type": "code",
   "execution_count": 2,
   "metadata": {},
   "outputs": [
    {
     "data": {
      "text/plain": [
       "#'r-interop/r-conn"
      ]
     },
     "execution_count": 2,
     "metadata": {},
     "output_type": "execute_result"
    }
   ],
   "source": [
    "(def r-conn (get-r))\n"
   ]
  },
  {
   "cell_type": "markdown",
   "metadata": {},
   "source": [
    "## auxiliary functions\n"
   ]
  },
  {
   "cell_type": "markdown",
   "metadata": {},
   "source": [
    "running r code through Rojure with given bindings to clojure values, returning the result as a clojure value"
   ]
  },
  {
   "cell_type": "code",
   "execution_count": 3,
   "metadata": {},
   "outputs": [
    {
     "data": {
      "text/plain": [
       "#'r-interop/call-r-with-code"
      ]
     },
     "execution_count": 3,
     "metadata": {},
     "output_type": "execute_result"
    }
   ],
   "source": [
    "(defn call-r-with-code [bindings code]\n",
    "    (doseq [[k v] bindings]\n",
    "        (r-set! r-conn (name k) v))\n",
    "    (r-eval r-conn\n",
    "            \"result <- NULL\")\n",
    "    (r-eval r-conn\n",
    "            (str \"result <- {\" code \"}\"))\n",
    "    (r-get r-conn \"result\"))"
   ]
  },
  {
   "cell_type": "markdown",
   "metadata": {},
   "source": [
    "using gg4clj to write r code as a clojure data structure"
   ]
  },
  {
   "cell_type": "code",
   "execution_count": 4,
   "metadata": {},
   "outputs": [
    {
     "data": {
      "text/plain": [
       "#'r-interop/call-r-as-data"
      ]
     },
     "execution_count": 4,
     "metadata": {},
     "output_type": "execute_result"
    }
   ],
   "source": [
    "(defn call-r-as-data [bindings code-as-data]\n",
    "    (->> code-as-data\n",
    "         gg4clj.core/to-r\n",
    "         (call-r-with-code bindings)))"
   ]
  },
  {
   "cell_type": "markdown",
   "metadata": {},
   "source": [
    "# simple usage example"
   ]
  },
  {
   "cell_type": "markdown",
   "metadata": {},
   "source": [
    "## linear regression"
   ]
  },
  {
   "cell_type": "code",
   "execution_count": 5,
   "metadata": {},
   "outputs": [
    {
     "data": {
      "text/plain": [
       "[-0.5333333333333405 10.200000000000001]"
      ]
     },
     "execution_count": 5,
     "metadata": {},
     "output_type": "execute_result"
    }
   ],
   "source": [
    "(-> {:x [1 2 3 4 5 6]\n",
    "     :y [10.5 19 31 39 49.5 62]} \n",
    "    (call-r-with-code \"lm(y~x)\")\n",
    "    (get \"coefficients\"))"
   ]
  },
  {
   "cell_type": "markdown",
   "metadata": {},
   "source": [
    "## statistics of random numbers\n"
   ]
  },
  {
   "cell_type": "code",
   "execution_count": 6,
   "metadata": {},
   "outputs": [
    {
     "data": {
      "text/html": [
       "<div class=\"jh-root\"><table class=\"jh-type-object\"><tbody><tr><th class=\"jh-key jh-object-key\"><span class=\"jh-type-string\">1st Qu.</span></th><td class=\"jh-value jh-object-value\"><table class=\"jh-type-object\"><tbody><tr><th class=\"jh-key jh-array-key\">0</th><td class=\"jh-value jh-array-value\"><span class=\"jh-type-number\">0.20504836193973075</span></td></tr></tbody></table></td></tr><tr><th class=\"jh-key jh-object-key\"><span class=\"jh-type-string\">3rd Qu.</span></th><td class=\"jh-value jh-object-value\"><table class=\"jh-type-object\"><tbody><tr><th class=\"jh-key jh-array-key\">0</th><td class=\"jh-value jh-array-value\"><span class=\"jh-type-number\">5.744968668087701</span></td></tr></tbody></table></td></tr><tr><th class=\"jh-key jh-object-key\"><span class=\"jh-type-string\">Max.</span></th><td class=\"jh-value jh-object-value\"><table class=\"jh-type-object\"><tbody><tr><th class=\"jh-key jh-array-key\">0</th><td class=\"jh-value jh-array-value\"><span class=\"jh-type-number\">16.12268256342119</span></td></tr></tbody></table></td></tr><tr><th class=\"jh-key jh-object-key\"><span class=\"jh-type-string\">Mean</span></th><td class=\"jh-value jh-object-value\"><table class=\"jh-type-object\"><tbody><tr><th class=\"jh-key jh-array-key\">0</th><td class=\"jh-value jh-array-value\"><span class=\"jh-type-number\">3.0587579194217427</span></td></tr></tbody></table></td></tr><tr><th class=\"jh-key jh-object-key\"><span class=\"jh-type-string\">Median</span></th><td class=\"jh-value jh-object-value\"><table class=\"jh-type-object\"><tbody><tr><th class=\"jh-key jh-array-key\">0</th><td class=\"jh-value jh-array-value\"><span class=\"jh-type-number\">3.0992815193236005</span></td></tr></tbody></table></td></tr><tr><th class=\"jh-key jh-object-key\"><span class=\"jh-type-string\">Min.</span></th><td class=\"jh-value jh-object-value\"><table class=\"jh-type-object\"><tbody><tr><th class=\"jh-key jh-array-key\">0</th><td class=\"jh-value jh-array-value\"><span class=\"jh-type-number\">-10.938969266393046</span></td></tr></tbody></table></td></tr></tbody></table></div>"
      ]
     },
     "execution_count": 6,
     "metadata": {},
     "output_type": "execute_result"
    }
   ],
   "source": [
    "(-> {:n [1000]\n",
    "     :mu [3]\n",
    "     :sigma [4]}\n",
    "    (call-r-as-data [:as.list [:summary\n",
    "                      [:+ :mu [:'*' :sigma [:rnorm :n]]]]])\n",
    "    edn->html\n",
    "    make-html)"
   ]
  },
  {
   "cell_type": "markdown",
   "metadata": {
    "collapsed": true
   },
   "source": [
    "## plotting\n",
    "\n",
    "This requires to install the R-packages ggplot2, rmarkdown.\n",
    "TODO: Make this work again."
   ]
  },
  {
   "cell_type": "code",
   "execution_count": 9,
   "metadata": {
    "scrolled": true
   },
   "outputs": [],
   "source": [
    ";; (def rmd-path \"/tmp/tmp1.Rmd\")\n",
    ";; (def html-path \"/tmp/tmp1.html\")\n",
    ";; (io/delete-file rmd-path)\n",
    ";; (io/delete-file html-path)\n",
    "\n",
    ";; (->> [[:library :ggplot2]\n",
    ";;       [:+ [:ggplot [:data.frame {:x :x :y :y}]]\n",
    ";;           [:geom_point [:aes {:x :x :y :y}]]]]\n",
    ";;     gg4clj.core/to-r\n",
    ";;     (format \"```{r}\\n%s\\n```\")\n",
    ";;     (spit rmd-path))\n",
    "\n",
    ";; (-> {:x [4 1 5 12 4 1 5 1]\n",
    ";;      :y [1 23 22 2 3 5 6 9]}\n",
    ";;     (call-r-as-data [[:library :rmarkdown]\n",
    ";;                      [:render rmd-path {:output_file html-path}]]))\n",
    "\n",
    ";; (->> html-path\n",
    ";;      slurp\n",
    ";;      make-html)\n"
   ]
  },
  {
   "cell_type": "code",
   "execution_count": null,
   "metadata": {
    "collapsed": true
   },
   "outputs": [],
   "source": []
  },
  {
   "cell_type": "code",
   "execution_count": null,
   "metadata": {
    "collapsed": true
   },
   "outputs": [],
   "source": []
  }
 ],
 "metadata": {
  "kernelspec": {
   "display_name": "Lein-Clojure",
   "language": "clojure",
   "name": "lein-clojure"
  },
  "language_info": {
   "file_extension": ".clj",
   "mimetype": "text/x-clojure",
   "name": "clojure",
   "version": "1.8.0"
  }
 },
 "nbformat": 4,
 "nbformat_minor": 2
}
